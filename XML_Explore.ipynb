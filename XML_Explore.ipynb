{
 "cells": [
  {
   "cell_type": "code",
   "execution_count": 1,
   "metadata": {},
   "outputs": [],
   "source": [
    "import pandas as pd\n",
    "from bs4 import BeautifulSoup\n"
   ]
  },
  {
   "cell_type": "code",
   "execution_count": 2,
   "metadata": {},
   "outputs": [],
   "source": [
    "xml_path = '/Users/toby/Documents/ACADEMIC_Northeastern/2021_fall/CS 5200 database/Practicum_II/pubmed_sample.xml'"
   ]
  },
  {
   "cell_type": "code",
   "execution_count": 3,
   "metadata": {},
   "outputs": [],
   "source": [
    "with open(xml_path) as file:\n",
    "    soup = BeautifulSoup(file, \"html.parser\")"
   ]
  },
  {
   "cell_type": "code",
   "execution_count": 58,
   "metadata": {},
   "outputs": [
    {
     "name": "stdout",
     "output_type": "stream",
     "text": [
      "<class 'bs4.element.ResultSet'>\n",
      "['__add__', '__class__', '__contains__', '__delattr__', '__delitem__', '__dict__', '__dir__', '__doc__', '__eq__', '__format__', '__ge__', '__getattr__', '__getattribute__', '__getitem__', '__gt__', '__hash__', '__iadd__', '__imul__', '__init__', '__init_subclass__', '__iter__', '__le__', '__len__', '__lt__', '__module__', '__mul__', '__ne__', '__new__', '__reduce__', '__reduce_ex__', '__repr__', '__reversed__', '__rmul__', '__setattr__', '__setitem__', '__sizeof__', '__str__', '__subclasshook__', '__weakref__', 'append', 'clear', 'copy', 'count', 'extend', 'index', 'insert', 'pop', 'remove', 'reverse', 'sort', 'source']\n",
      "19\n"
     ]
    }
   ],
   "source": [
    "articles = soup.find_all(\"pubmedarticle\")\n",
    "print(type(articles))\n",
    "print(dir(articles))\n",
    "print(len(articles))"
   ]
  },
  {
   "cell_type": "code",
   "execution_count": 60,
   "metadata": {},
   "outputs": [
    {
     "data": {
      "text/plain": [
       "[<journal>\n",
       " <issn issntype=\"Print\">1556-3316</issn>\n",
       " <journalissue citedmedium=\"Print\">\n",
       " <volume>8</volume>\n",
       " <issue>2</issue>\n",
       " <pubdate>\n",
       " <year>2012</year>\n",
       " <month>Jul</month>\n",
       " </pubdate>\n",
       " </journalissue>\n",
       " <title>HSS journal : the musculoskeletal journal of Hospital for Special Surgery</title>\n",
       " <isoabbreviation>HSS J</isoabbreviation>\n",
       " </journal>]"
      ]
     },
     "execution_count": 60,
     "metadata": {},
     "output_type": "execute_result"
    }
   ],
   "source": [
    "# print(articles[0])\n",
    "articles[0].find_all(\"journal\")"
   ]
  },
  {
   "cell_type": "code",
   "execution_count": null,
   "metadata": {},
   "outputs": [],
   "source": []
  },
  {
   "cell_type": "code",
   "execution_count": 48,
   "metadata": {},
   "outputs": [
    {
     "name": "stdout",
     "output_type": "stream",
     "text": [
      "17\n",
      "<pmid version=\"1\">23874253</pmid> 1 23874253\n",
      "\n",
      "2013\n",
      "07\n",
      "22\n",
      "\n"
     ]
    }
   ],
   "source": [
    "medlinecitation = articles[0].find(\"medlinecitation\")\n",
    "print(len(medlinecitation))\n",
    "# print(dir(medlinecitation))\n",
    "pmid = medlinecitation.find_all(\"pmid\")[0]\n",
    "print(pmid, pmid[\"version\"], pmid.text)\n",
    "# medlinecitation['owner']\n",
    "date_created = medlinecitation.find(\"datecreated\")\n",
    "print(date_created.text)"
   ]
  },
  {
   "cell_type": "code",
   "execution_count": 57,
   "metadata": {
    "scrolled": true
   },
   "outputs": [
    {
     "data": {
      "text/plain": [
       "<article pubmodel=\"Print-Electronic\">\n",
       "<journal>\n",
       "<issn issntype=\"Print\">1556-3316</issn>\n",
       "<journalissue citedmedium=\"Print\">\n",
       "<volume>8</volume>\n",
       "<issue>2</issue>\n",
       "<pubdate>\n",
       "<year>2012</year>\n",
       "<month>Jul</month>\n",
       "</pubdate>\n",
       "</journalissue>\n",
       "<title>HSS journal : the musculoskeletal journal of Hospital for Special Surgery</title>\n",
       "<isoabbreviation>HSS J</isoabbreviation>\n",
       "</journal>\n",
       "<articletitle>Regional anesthesia for children undergoing orthopedic ambulatory surgeries in the United States, 1996-2006.</articletitle>\n",
       "<pagination>\n",
       "<medlinepgn>133-6</medlinepgn>\n",
       "</pagination>\n",
       "<elocationid eidtype=\"doi\" validyn=\"Y\">10.1007/s11420-012-9278-8</elocationid>\n",
       "<abstract>\n",
       "<abstracttext label=\"BACKGROUND\" nlmcategory=\"BACKGROUND\">Our objective was to evaluate national trends in regional anesthetic techniques among children undergoing ambulatory orthopedic procedures.</abstracttext>\n",
       "<abstracttext label=\"PURPOSE AND QUESTIONS\" nlmcategory=\"UNASSIGNED\">We aimed to determine whether an increase in regional anesthetics was primarily driven by an increase in the number of peripheral nerve blocks performed rather than an increase in neuraxial techniques. We further aimed to determine whether the proportion of peripheral nerve blocks performed in conjunction with general anesthesia has increased over time.</abstracttext>\n",
       "<abstracttext label=\"PATIENTS AND METHODS\" nlmcategory=\"METHODS\">Our study sample included any pediatric patient (i.e., &lt;18 years old) who underwent an orthopedic ambulatory procedure in 1996 and 2006. We obtained data on ambulatory surgical procedures by accessing the Centers for Disease Control and Prevention's National Survey of Ambulatory Surgery. Patient demographics (age, gender), procedure information, and anesthesia-related variables were analyzed for each year.</abstracttext>\n",
       "<abstracttext label=\"RESULTS\" nlmcategory=\"RESULTS\">The proportion of peripheral nerve blocks performed for ambulatory surgery more than doubled from 1996 (4.4 %) to 2006 (8.1 %). A significantly larger proportion of orthopedic procedures were being performed with a combination of peripheral nerve blocks and general anesthesia (1.2 % in 1996 and 43 % 2006). The use of neuraxial anesthesia for lower extremity surgeries decreased over the 10-year period (1.1 and 0.4 % in 1996 and 2006, respectively).</abstracttext>\n",
       "<abstracttext label=\"CONCLUSIONS\" nlmcategory=\"CONCLUSIONS\">There was a significant increase in the use of peripheral nerve blocks for children undergoing ambulatory orthopedic procedures in the USA, while neuraxial techniques became less common over the 10-year period. The peripheral nerve blocks were frequently performed in conjunction with general anesthesia.</abstracttext>\n",
       "</abstract>\n",
       "<authorlist completeyn=\"Y\">\n",
       "<author validyn=\"Y\">\n",
       "<lastname>Kuo</lastname>\n",
       "<forename>Cassie</forename>\n",
       "<initials>C</initials>\n",
       "<affiliation>Department of Anesthesiology, Hospital for Special Surgery, 535 East 70th Street, New York, NY 10021 USA.</affiliation>\n",
       "</author>\n",
       "<author validyn=\"Y\">\n",
       "<lastname>Edwards</lastname>\n",
       "<forename>Alison</forename>\n",
       "<initials>A</initials>\n",
       "</author>\n",
       "<author validyn=\"Y\">\n",
       "<lastname>Mazumdar</lastname>\n",
       "<forename>Madhu</forename>\n",
       "<initials>M</initials>\n",
       "</author>\n",
       "<author validyn=\"Y\">\n",
       "<lastname>Memtsoudis</lastname>\n",
       "<forename>Stavros G</forename>\n",
       "<initials>SG</initials>\n",
       "</author>\n",
       "</authorlist>\n",
       "<language>eng</language>\n",
       "<publicationtypelist>\n",
       "<publicationtype>Journal Article</publicationtype>\n",
       "</publicationtypelist>\n",
       "<articledate datetype=\"Electronic\">\n",
       "<year>2012</year>\n",
       "<month>06</month>\n",
       "<day>20</day>\n",
       "</articledate>\n",
       "</article>"
      ]
     },
     "execution_count": 57,
     "metadata": {},
     "output_type": "execute_result"
    }
   ],
   "source": [
    "date_created.text.replace(\"\\n\", \" \").strip()\n",
    "article = medlinecitation.find(\"article\")\n",
    "article"
   ]
  },
  {
   "cell_type": "code",
   "execution_count": 68,
   "metadata": {},
   "outputs": [
    {
     "name": "stdout",
     "output_type": "stream",
     "text": [
      "[1, 1, 1, 1, 1, 1, 1, 1, 1, 1, 1, 1, 1, 1, 1, 1, 1, 1, 1]\n",
      "[1, 1, 1, 1, 1, 1, 1, 1, 1, 1, 1, 1, 1, 1, 1, 1, 1, 1, 1]\n",
      "[5, 4, 4, 4, 4, 5, 1, 4, 5, 9, 6, 1, 4, 1, 6, 4, 4, 4, 6]\n",
      "[0, 1, 1, 1, 1, 1, 0, 1, 0, 1, 1, 1, 1, 1, 1, 1, 1, 1, 1]\n",
      "[1, 1, 1, 1, 1, 1, 1, 1, 1, 1, 1, 1, 1, 1, 1, 1, 1, 1, 1]\n"
     ]
    }
   ],
   "source": [
    "def checkFrequency(bsResultSet, tag):\n",
    "    \"\"\"\n",
    "    Note that bs supports all level tag search,\n",
    "    so it is find it the tag is nested.\n",
    "    \"\"\"\n",
    "    return len(bsResultSet.find_all(tag.lower()))\n",
    "# check unique medlinecitation\n",
    "print([checkFrequency(_, \"medlinecitation\") for _ in articles])\n",
    "\n",
    "# check journal 1-on-1\n",
    "print([checkFrequency(_, \"journal\") for _ in articles])\n",
    "\n",
    "# check AbstractText 1-on-many\n",
    "print([checkFrequency(_, \"AbstractText\".lower()) for _ in articles])\n",
    "\n",
    "# check GrantList\n",
    "print([checkFrequency(_, \"GrantList\".lower()) for _ in articles]) # 0 OR 1\n",
    "\n",
    "# check History\n",
    "print([checkFrequency(_, \"History\".lower()) for _ in articles]) # 1-on-1"
   ]
  },
  {
   "cell_type": "code",
   "execution_count": null,
   "metadata": {},
   "outputs": [],
   "source": [
    "def extractArticleInfo(PubmedArticle):\n",
    "    \"\"\"\n",
    "    Extract XML to json/dictionary might be the best.\n",
    "    \"\"\"\n",
    "    res = {}\n",
    "    \n",
    "    # each artcile shall only have one medlinecitation\n",
    "    medlinecitation = PubmedArticle.find(\"medlinecitation\")\n",
    "    \n",
    "    pmid = medlinecitation.find(\"pmid\")\n",
    "    \n",
    "    date_created = medlinecitation.find(\"datecreated\").replace(\"\\n\", \" \").strip()\n",
    "    date_completed = medlinecitation.find(\"datecompleted\").replace(\"\\n\", \" \").strip()\n",
    "    date_received= medlinecitation.find(\"datereceived\").replace(\"\\n\", \" \").strip()\n",
    "    \n",
    "    artile = medlinecitation.find(\"article\")\n",
    "    \n",
    "    medlineJournalInfo = medlinecitation.find(\"medlinejournalinfo\")\n",
    "    \n",
    "    medline_info = {\n",
    "        \"owner\": medlinecitation[\"owner\"],\n",
    "        \"status\": medlinecitation[\"status\"],\n",
    "        \"pmid\": pmid.text,\n",
    "        \"pmid_version\": pmid[\"version\"],\n",
    "        \"date_created\": date_created,\n",
    "        \"date_completed\": date_completed,\n",
    "        \"date_received\": date_received,\n",
    "        \n",
    "        \n",
    "    }\n",
    "    \n",
    "    return res"
   ]
  }
 ],
 "metadata": {
  "kernelspec": {
   "display_name": "Python 3",
   "language": "python",
   "name": "python3"
  },
  "language_info": {
   "codemirror_mode": {
    "name": "ipython",
    "version": 3
   },
   "file_extension": ".py",
   "mimetype": "text/x-python",
   "name": "python",
   "nbconvert_exporter": "python",
   "pygments_lexer": "ipython3",
   "version": "3.6.5"
  }
 },
 "nbformat": 4,
 "nbformat_minor": 2
}
